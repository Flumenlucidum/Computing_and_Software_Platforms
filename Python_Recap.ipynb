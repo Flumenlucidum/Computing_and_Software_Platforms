{
 "cells": [
  {
   "cell_type": "markdown",
   "metadata": {},
   "source": [
    "### Recap on basics of Python language <br>\n",
    "\n",
    "- Function and Variables <br>\n",
    "- Control and Loop <br>\n",
    "- Built-in data structures <br>\n",
    "- Class and modules <br>\n",
    "- File I/O"
   ]
  },
  {
   "cell_type": "code",
   "execution_count": 1,
   "metadata": {},
   "outputs": [],
   "source": [
    "# -*- coding: utf-8 -*-\n",
    "#Python Interpreter translates your program to language that OS understands\n",
    "#OS has the direct access to hardwares.\n",
    "3+4\n",
    "(-2)**4\n",
    "#Operators  + - * / %(remainders) //(quotients) ** (power)\n",
    "#Operands : Values that an operator takes\n",
    "\n",
    "#Types \n",
    "#int (integer), float (floating point, a subset of real numbers) \n",
    "type(100-25.0)\n",
    "type(2/3) # Offers finite precision due to limited memory\n",
    "\n",
    "#Call Expressions\n",
    "#Operator can be a function and call expression calls a function\n",
    "max(min(2,3),min(9,10))\n",
    "\n",
    "#Variable is basically 'named memory location' \n",
    "#Its value can be changed while running the program.\n",
    "#Except reserved word e.g. True, False, etc.\n",
    "\n",
    "temp_celsius=7\n",
    "#Assignment <<variable>>=<<expression>>\n",
    "#Evaluate the expression and make a value. This value has a memory address.\n",
    "#Store the 7's memory address in the variable temp_celsius\n",
    "#The variable points the memory where the value is stored\n",
    "\n",
    "x,y=1,2\n",
    "temp_celsius+4.7\n",
    "temp_celsius=14\n"
   ]
  },
  {
   "cell_type": "code",
   "execution_count": 2,
   "metadata": {},
   "outputs": [
    {
     "data": {
      "text/plain": [
       "3"
      ]
     },
     "execution_count": 2,
     "metadata": {},
     "output_type": "execute_result"
    }
   ],
   "source": [
    "#Example \n",
    "f=min\n",
    "f=max\n",
    "g,h=min,max\n",
    "max=g\n",
    "max(f(2,g(h(1,5),3)),4)\n",
    "\n",
    "#My solution \n",
    "#max->g->min f->max, h->max\n",
    "#Fix:   max=g makes max-> min (values stored in memory location g)"
   ]
  },
  {
   "cell_type": "markdown",
   "metadata": {},
   "source": [
    "Function"
   ]
  },
  {
   "cell_type": "code",
   "execution_count": 6,
   "metadata": {},
   "outputs": [
    {
     "data": {
      "text/plain": [
       "125"
      ]
     },
     "execution_count": 6,
     "metadata": {},
     "output_type": "execute_result"
    }
   ],
   "source": [
    "#Defining our own function (Indentation)\n",
    "def to_fahrenheit(celsius):\n",
    "    return celsius*5/9+32\n",
    "\n",
    "to_fahrenheit(10)\n",
    "\n",
    "#Local Variables\n",
    "#Erased when the function returns\n",
    "#Parameters are local variables\n",
    "#When python executes a function call, it creates namespace to store local variables for that call\n",
    "#If the variable name is same as a variable in another namespace, python just considers the current one\n",
    "\n",
    "def to_fahrenheit(celsius):\n",
    "    a=5/9\n",
    "    b=32\n",
    "    return celsius*a+b\n",
    "\n",
    "#Memory model\n",
    "def doubling(x):\n",
    "    return 2*x\n",
    "x=5\n",
    "#Shell (global)\n",
    "#doubling -> func doubling(...),  x->5\n",
    "x=doubling(x+5)\n",
    "#1) Evaluate x+5 which is 10 \n",
    "#2) Create a namespace for call 'doubling'\n",
    "#3) Assign the argument value to the function parameter 'x'\n",
    "#4) Get the return value 20\n",
    "#5) Terminate the function and assign the result to x in global namespace\n",
    "#+ There is a namespace called 'builtin namespace.'\n",
    "\n",
    "#Function Design\n",
    "def diff(num1: int, num2: int)->int:\n",
    "    #Return the difference between num1 and num2\n",
    "    return abs(num2-num1)\n",
    "diff(220,345)"
   ]
  },
  {
   "cell_type": "code",
   "execution_count": 6,
   "metadata": {
    "scrolled": true
   },
   "outputs": [
    {
     "name": "stdout",
     "output_type": "stream",
     "text": [
      "global y =5\n",
      "bar z = 9\n",
      "foo3 z = 9\n"
     ]
    },
    {
     "data": {
      "text/plain": [
       "55"
      ]
     },
     "execution_count": 6,
     "metadata": {},
     "output_type": "execute_result"
    }
   ],
   "source": [
    "#Crossing Scope Boundaries\n",
    "x=5\n",
    "def foo():\n",
    "    x=8\n",
    "x # 5 \n",
    "def foo2():\n",
    "    global x\n",
    "    x=x+1\n",
    "foo2()\n",
    "x # 6\n",
    "\n",
    "y=5\n",
    "def foo3():\n",
    "    print('global y ='+str(y))\n",
    "    z=7\n",
    "    def bar():\n",
    "        nonlocal z\n",
    "        z=9\n",
    "        print('bar z = ' +str(z))\n",
    "    bar()\n",
    "    print('foo3 z = ' +str(z))\n",
    "foo3()\n",
    "\n",
    "#Recursion #function is recursive if it calls itself\n",
    "def sum(n:int)->int:\n",
    "    if n<=1:\n",
    "        return n\n",
    "    else:\n",
    "        return n+sum(n-1)\n",
    "sum(10)\n"
   ]
  },
  {
   "cell_type": "markdown",
   "metadata": {},
   "source": [
    "Text"
   ]
  },
  {
   "cell_type": "code",
   "execution_count": 37,
   "metadata": {},
   "outputs": [
    {
     "name": "stdout",
     "output_type": "stream",
     "text": [
      "I said \"I'm studying\"\n",
      "4\n",
      "I was born in October 28 th.\n",
      "Name\tNationality\n",
      "Jangho\tKorea\n",
      "Philipp\tGermany\n",
      "Please enter your name:JAngho\n"
     ]
    }
   ],
   "source": [
    "#String type for text values\n",
    "#' ' or \"  \"\n",
    "len('statistical machine learning')\n",
    "'I'+\" \" + 'like'+' '+\"you\"\n",
    "'Yes'*5\n",
    "\n",
    "#Type change\n",
    "float('-100.456')\n",
    "str(3)\n",
    "#Assignment \n",
    "my_name='Jangho Kim'\n",
    "len(my_name)\n",
    "my_name+\" likes computational science\"\n",
    "\n",
    "#Special characters  (Won currency notation in Korean font system)\n",
    "print(\"I said \\\"I\\'m studying\\\"\")\n",
    "#Escape sequece (escaping from python's usual syntax rules)\n",
    "# \\'  \\\"  \\\\ backslash  \\t tab \\n new line \\r Carriage return \n",
    "print(1+3)\n",
    "day=28\n",
    "print('I was born in October', day,'th.')\n",
    "print('Name\\tNationality\\nJangho\\tKorea\\nPhilipp\\tGermany')\n",
    "name=input('Please enter your name:')"
   ]
  },
  {
   "cell_type": "markdown",
   "metadata": {},
   "source": [
    "Control and Loops"
   ]
  },
  {
   "cell_type": "code",
   "execution_count": 50,
   "metadata": {},
   "outputs": [
    {
     "name": "stdout",
     "output_type": "stream",
     "text": [
      "Enter the current time in the format HH:MM :16:10\n",
      "During class\n"
     ]
    }
   ],
   "source": [
    "#Control\n",
    "#Boolean type : only two values True and False \n",
    "#Boolean operator : not, and, or\n",
    "cold=True\n",
    "windy=False\n",
    "(not cold) and windy\n",
    "cold or windy #True\n",
    "cold and windy #False\n",
    "#short circuit evaluation : fast conclustion when it is obvious\n",
    "(2>3) and (5>7)  #Skips the latter\n",
    "\n",
    "#Relational Operators\n",
    "# >,<,>=,<=,==,!=\n",
    "22>10\n",
    "55==55\n",
    "\n",
    "def is_pos(x:float)->bool:\n",
    "    return x>0\n",
    "\n",
    "#ASCII Code \n",
    "ord('A')\n",
    "#Comparison of string in lexical order\n",
    "'abc'<'abd' #True\n",
    "#'in' operator\n",
    "'Sep' in 'September'\n",
    "\"\" in \"\" #Empty string is a substring of every string\n",
    "\n",
    "time=input(\"Enter the current time in the format HH:MM :\")\n",
    "if time<\"15:30\":\n",
    "    print('Before class')\n",
    "elif time<\"16:45\":\n",
    "    print('During class')\n",
    "else:\n",
    "    print('After class')\n",
    "    \n",
    "#Nested If statements possible"
   ]
  },
  {
   "cell_type": "code",
   "execution_count": 59,
   "metadata": {},
   "outputs": [
    {
     "name": "stdout",
     "output_type": "stream",
     "text": [
      "Let's sing Do\n",
      "Let's sing Re\n",
      "Let's sing Mi\n",
      "J\n",
      "K\n",
      "1\n",
      "3\n",
      "5\n",
      "7\n",
      "9\n",
      "Student 12 got A\n",
      "Student 12 got B\n",
      "Student 12 got C\n",
      "Student 34 got A\n",
      "Student 34 got B\n",
      "Student 34 got C\n",
      "Student 56 got A\n",
      "Student 56 got B\n",
      "Student 56 got C\n"
     ]
    },
    {
     "data": {
      "text/plain": [
       "5"
      ]
     },
     "execution_count": 59,
     "metadata": {},
     "output_type": "execute_result"
    }
   ],
   "source": [
    "#for Loop\n",
    "Notes=['Do','Re','Mi']\n",
    "for note in Notes:\n",
    "    print('Let\\'s sing',note)\n",
    "name='JanghoKim'\n",
    "for ch in name:\n",
    "    if ch.isupper():\n",
    "        print(ch)\n",
    "        \n",
    "#range  (start, stop, step)\n",
    "#until stop-1,  decreasing order when step<0\n",
    "for i in range(1,10,2):\n",
    "    print(i)\n",
    "#Nested loop\n",
    "Students=[12,34,56]\n",
    "Grades=['A','B','C']\n",
    "for student in Students:\n",
    "    for grade in Grades:\n",
    "        print('Student',student, 'got', grade)\n",
    "        \n",
    "        \n",
    "#while\n",
    "i=0\n",
    "while i<10:\n",
    "    i+=1\n",
    "#Be careful of infinite loop\n",
    "\n",
    "#Controlling Loops with Break and Continue\n",
    "\n",
    "first_upper_index=-1\n",
    "randomString='whkxnKdosXejmxDDEsdW'\n",
    "for i in range(len(randomString)):\n",
    "    if randomString[i].islower():\n",
    "        continue\n",
    "    first_upper_index=i\n",
    "    break\n",
    "first_upper_index"
   ]
  },
  {
   "cell_type": "markdown",
   "metadata": {},
   "source": [
    "Modules and Classes"
   ]
  },
  {
   "cell_type": "code",
   "execution_count": 63,
   "metadata": {},
   "outputs": [
    {
     "data": {
      "text/plain": [
       "1"
      ]
     },
     "execution_count": 63,
     "metadata": {},
     "output_type": "execute_result"
    }
   ],
   "source": [
    "#Module : package of (reusable) variables and functions, grouped together in a single file\n",
    "#Use 'import' and use all functions and variables in the module\n",
    "import math as My_math\n",
    "My_math.pi\n",
    "My_math.sqrt(9)\n",
    "#My_math->module math  sqrt -> func sqrt(..)\n",
    "\n",
    "from math import sqrt,pi #Bring them to global namespace\n",
    "sqrt(16)\n",
    "# from math import *  (Not recommended due to duplicated names in other modules)\n",
    "\n",
    "#value of the module's variable is modifiable but this should not be done\n",
    "#Python does not allow programmers to freeze values (flaw)\n",
    "#Write your own module \n",
    "def to_fahrenheit(celsius:float)->float:\n",
    "    return celsius*5/9+32\n",
    "#Save the file in temperature.py\n",
    "#import temperature ,  and use the function\n",
    "\n",
    "\n",
    "#Class : a type of object that has variables and functions \n",
    "#    functions in a class are called methods\n",
    "#    method takes its class object as first and default argument\n",
    "#    call a class's method like function \n",
    "# <<class object>>.<<method>>\n",
    "\n",
    "#types we've seen so far are classes e.g. int class, str class\n",
    "#class is a blueprint and a class object is it's instance\n",
    "#Example of abstraction\n",
    "name='JanghoKim' #name points at an object of str class 'JanghoKim'\n",
    "#calling str methods\n",
    "name.lower()\n",
    "name.find('S')\n",
    "name.count('n')\n",
    "\n",
    "#https://www.w3schools.com/python/python_ref_string.asp\n",
    "#Refer to Object-oriented programming in later sections"
   ]
  },
  {
   "cell_type": "markdown",
   "metadata": {},
   "source": [
    "Data Structures : a way to store and organize data in order to facilitate access and modifications"
   ]
  },
  {
   "cell_type": "code",
   "execution_count": 24,
   "metadata": {},
   "outputs": [],
   "source": [
    "#List-type of object (i.e., class) that contains a list of 'ordered' items\n",
    "Course_list=['Physics','Real Analysis','Topology']\n",
    "#memory course[0|1|2] -> to each element\n",
    "Course_list[1]='Linear Algebra'\n",
    "Course_list\n",
    "#Lists can contain any type of data but using single type is recommended\n",
    "from typing import List\n",
    "def average(L:List[float])->float:\n",
    "    return\n",
    "\n",
    "#List operators\n",
    "A=[1,2,20,-6,402,28]\n",
    "len(A);max(A);sum(A);sorted(A)\n",
    "A+[4,5,6]\n",
    "A*2\n",
    "del A[1]\n",
    "20 in A\n",
    "A[2:5]\n",
    "\n",
    "#Copy vs Alias\n",
    "#Copy as independent list / modification does not affect original one\n",
    "Course_copy=Course_list[:]\n",
    "#Alias : another name referring to the same list\n",
    "Course_alias=Course_list\n",
    "del Course_copy[-1] ; del Course_alias[-1]\n",
    "Course_list\n",
    "\n",
    "#List as function parameter -> it is a variable so 'aliasing' is used\n",
    "\n",
    "#List methods:modify the list but return None\n",
    "Course_list.append('Econometrics')\n",
    "#Course_list.clear()\n",
    "Course_list.count('Physics')\n",
    "Course_list.index('Linear Algebra')\n",
    "Course_list.insert(2,'Harmonics')\n",
    "Course_list.pop()\n",
    "Course_list.remove('Harmonics')\n",
    "Course_list.reverse()\n",
    "Course_list.sort()\n",
    "Course_list.sort(reverse=True)\n",
    "\n",
    "#List of Lists is possible (sublist)"
   ]
  },
  {
   "cell_type": "code",
   "execution_count": 30,
   "metadata": {},
   "outputs": [
    {
     "name": "stdout",
     "output_type": "stream",
     "text": [
      "a\n",
      "i\n",
      "o\n",
      "u\n",
      "e\n"
     ]
    },
    {
     "ename": "TypeError",
     "evalue": "unhashable type: 'list'",
     "output_type": "error",
     "traceback": [
      "\u001b[1;31m---------------------------------------------------------------------------\u001b[0m",
      "\u001b[1;31mTypeError\u001b[0m                                 Traceback (most recent call last)",
      "\u001b[1;32m<ipython-input-30-5d53ee5e6ce4>\u001b[0m in \u001b[0;36m<module>\u001b[1;34m\u001b[0m\n\u001b[0;32m     12\u001b[0m \u001b[1;31m#Hashing assumes taht all elements of a set are immutable\u001b[0m\u001b[1;33m\u001b[0m\u001b[1;33m\u001b[0m\u001b[1;33m\u001b[0m\u001b[0m\n\u001b[0;32m     13\u001b[0m \u001b[1;31m#so mutable elements like list cannot be an element of a set\u001b[0m\u001b[1;33m\u001b[0m\u001b[1;33m\u001b[0m\u001b[1;33m\u001b[0m\u001b[0m\n\u001b[1;32m---> 14\u001b[1;33m \u001b[0ma\u001b[0m\u001b[1;33m.\u001b[0m\u001b[0madd\u001b[0m\u001b[1;33m(\u001b[0m\u001b[1;33m[\u001b[0m\u001b[1;36m1\u001b[0m\u001b[1;33m,\u001b[0m\u001b[1;36m2\u001b[0m\u001b[1;33m]\u001b[0m\u001b[1;33m)\u001b[0m\u001b[1;33m\u001b[0m\u001b[1;33m\u001b[0m\u001b[0m\n\u001b[0m",
      "\u001b[1;31mTypeError\u001b[0m: unhashable type: 'list'"
     ]
    }
   ],
   "source": [
    "#Sets : Unordered and distinct items\n",
    "#Lists, sets are mutable and can be used as function arguments\n",
    "#Set is a class that has its own methods\n",
    "vowels={'a','e','e','a','o','i','u','a'}\n",
    "vowels\n",
    "a=set() #Empty set\n",
    "set([2,3,4,5,6])\n",
    "for i in vowels:\n",
    "    print(i)\n",
    "#set use 'in' operator -> fast due to hashing\n",
    "#List needs to scan the whole items\n",
    "#Hashing assumes taht all elements of a set are immutable\n",
    "#so mutable elements like list cannot be an element of a set\n",
    "a.add([1,2])  #Makes Error"
   ]
  },
  {
   "cell_type": "code",
   "execution_count": 32,
   "metadata": {},
   "outputs": [
    {
     "data": {
      "text/plain": [
       "(8,)"
      ]
     },
     "execution_count": 32,
     "metadata": {},
     "output_type": "execute_result"
    }
   ],
   "source": [
    "#Tuples have ordered items\n",
    "#immutable like strings\n",
    "nums=()\n",
    "nums=(5+3,);nums\n",
    "#Loop possible\n",
    "#objects inside tuple can be mutated"
   ]
  },
  {
   "cell_type": "code",
   "execution_count": 43,
   "metadata": {},
   "outputs": [
    {
     "name": "stdout",
     "output_type": "stream",
     "text": [
      "Sociology got grade A\n",
      "Econometrics got grade A+\n"
     ]
    },
    {
     "data": {
      "text/plain": [
       "True"
      ]
     },
     "execution_count": 43,
     "metadata": {},
     "output_type": "execute_result"
    }
   ],
   "source": [
    "#Dictionaries #unordered mutable items without duplicates\n",
    "#similar to sets\n",
    "#BUT the keys must be immutable\n",
    "#but dictionaries have 'key/value' pairs\n",
    "dict_empty={}\n",
    "dict_grades={'Physics':'A','Sociology':'B+','Econometrics':'A+'}\n",
    "dict_grades['Econometrics']\n",
    "\n",
    "dict_grades['Sociology']='A'\n",
    "'Physics' in dict_grades  #Fast like sets\n",
    "del dict_grades['Physics']\n",
    "\n",
    "for course in dict_grades:\n",
    "    print(course,'got grade',dict_grades[course])\n",
    "    \n",
    "#Methods\n",
    "\n",
    "#dict_grades.clear()\n",
    "dict_grades.keys() # return a set-like object\n",
    "dict_grades.items()\n",
    "dict_grades.values()\n",
    "dict_grades.get('Sociology') # return associated value \n",
    "dict_grades.get('History','Sociology') #History is not present so return just 'Sociology'\n",
    "dict_grades.pop('Econometrics') #Remove key and return the value \n",
    "dict_grades.pop('History','Sociology')\n",
    "dict_grades.setdefault('Chemistry') #Return value /if not present add the key and value as None\n",
    "#dict_grades.update(dict2) #update dict_grades with the contents of dict2 \n",
    "\n",
    "'Chemistry' in dict_grades # only the keys"
   ]
  },
  {
   "cell_type": "code",
   "execution_count": 49,
   "metadata": {},
   "outputs": [],
   "source": [
    "grades_inv={}\n",
    "for course, grade in dict_grades.items():\n",
    "    if grade in dict_grades:\n",
    "        grades_inv[grade].append(course)\n",
    "    else:\n",
    "        grades_inv[grade]=[course]\n"
   ]
  },
  {
   "cell_type": "markdown",
   "metadata": {},
   "source": [
    "File I/O"
   ]
  },
  {
   "cell_type": "code",
   "execution_count": null,
   "metadata": {},
   "outputs": [],
   "source": [
    "file=open('igf_exp.txt','r') #mode r reading w writing a appending\n",
    "contents=file.read() # read entire files\n",
    "file.close()  # Release all resources associated with open file object\n",
    "#print(contents)\n",
    "\n",
    "#close() not executed due to some reasongs sometimes\n",
    "#Safer way \n",
    "with open('igf_exp.txt','r') as file:\n",
    "    contents=file.read()\n",
    "#Release when the program leaves the 'with'\n",
    "#print(contents)\n",
    "\n",
    "#Mac/Linux:forward slash Windows:back slash\n",
    "#Forward slash is fine in python \n",
    "#Absolue and Relative path (the latter starting from current wd)\n",
    "\n",
    "import os\n",
    "os.getcwd()\n",
    "#os.chdir('/User/Desktop')\n",
    "\n",
    "#Reading contents in files\n",
    "with open('igf_exp.txt','r') as file:\n",
    "    contents=file.read(10)\n",
    "#Read 10 characters from the current cursor and it moves to the 11th character\n",
    "#or\n",
    "with open('igf_exp.txt','r') as file:\n",
    "    lines=file.readlines()\n",
    "#reversed(lines);sorted(lines)\n",
    "#with open('igf_exp.txt','r') as file:\n",
    "#   for line in file:\n",
    "        \n",
    "        \n",
    "        \n",
    "#File in internet\n",
    "import urllib.request\n",
    "url='https://docs.python.org/3/library/urllib.request.html'\n",
    "with urllib.request.urlopen(url) as file:\n",
    "    for line in file:\n",
    "        line=line.strip()\n",
    "        line=line.decode('utf-8')\n",
    "        print(line)\n",
    "        \n",
    "\n",
    "#Python read or readline methods return a 'bytes' type instead of string\n",
    "#bytes need o be docoded to use it as string\n",
    "\n",
    "#Bit 0 or 1 All data are represented as squence of bits\n",
    "#Byte = 8bits -> fundamental data unit \n",
    "#Programming languages interpret bytes for users to think them as integers, functions ...\n",
    "\n",
    "#Skipping the header\n",
    "with open('grade.txt','r') as grades:\n",
    "    process_file(grades)\n",
    "\n",
    "def process_file(input_file: TextIO)->None:\n",
    "    line=skip_header(input_file)\n",
    "    #do something\n",
    "    for line in input_file:\n",
    "        line=line.strip() #remove white space (in back and front)\n",
    "        #handle missing values\n",
    "        if line != '-':\n",
    "            for value in line.split():\n",
    "                names.append(value[0])\n",
    "                numbers.append(value[1])\n",
    "                grades.append(value[2])\n",
    "    \n",
    "def skip_header(input_file: TextIO)->str:\n",
    "    line=grades.readline()\n",
    "    while line.startswith('#'):\n",
    "        line=grades.readline()\n",
    "    return line"
   ]
  },
  {
   "cell_type": "code",
   "execution_count": 67,
   "metadata": {},
   "outputs": [],
   "source": [
    "#Writing files\n",
    "with open('file_example.txt','w') as file:\n",
    "    file.write('Jangho 249 97')\n",
    "\n",
    "with open('file_example.txt','a') as file:\n",
    "    file.write('\\n good!')"
   ]
  },
  {
   "cell_type": "markdown",
   "metadata": {},
   "source": [
    "Object-oriented Programming"
   ]
  },
  {
   "cell_type": "code",
   "execution_count": 74,
   "metadata": {},
   "outputs": [],
   "source": [
    "#Procedural Programming : Variables, Data structures, and Functions\n",
    "#Object-oriented Programming : Class and Methods\n",
    "#Combine a group of related variables(attributes) and functions(methods) into a unit\n",
    "#which is called object(encapsulation)\n",
    "\n",
    "#4 principles\n",
    "#1) Encapsulation : contain related information and behaviors in an object\n",
    "#2) Abstraction : Expose only high level methods\n",
    "#3) Inheritance : child classes inherit data and behaviors from parent classes\n",
    "#4) Polymorphism : Allow a single method to do different things depending on what class object it is included in\n",
    "\n",
    "class Member:\n",
    "    def __init__(self,name:str,nationality:str,major:str)->None:\n",
    "        self.name=name\n",
    "        self.nationality=nationality\n",
    "        self.major=major\n",
    "\n",
    "class Student(Member):\n",
    "    def __init__(self,name:str,nationality:str,major:str,studentID:str)->None:\n",
    "        super().__init__(name,nationality,major)\n",
    "        self.studentID=studentID\n",
    "        self.GPA=0\n",
    "        self.courses_taken=[]\n",
    "\n",
    "class Faculty(Member):\n",
    "    def __init__(self,name:str,nationality:str,major:str,facultyID:str)->None:\n",
    "        super().__init__(name,nationality,major)\n",
    "        self.facultyID=facultyID\n",
    "        self.salary=0    \n",
    "\n",
    "Jangho=Student('Jangho Kim','Korea','Data Science', '249')\n",
    "type(Jangho)==Student\n",
    "Jangho.GPA=4.29"
   ]
  },
  {
   "cell_type": "code",
   "execution_count": null,
   "metadata": {},
   "outputs": [],
   "source": []
  }
 ],
 "metadata": {
  "kernelspec": {
   "display_name": "Python 3",
   "language": "python",
   "name": "python3"
  },
  "language_info": {
   "codemirror_mode": {
    "name": "ipython",
    "version": 3
   },
   "file_extension": ".py",
   "mimetype": "text/x-python",
   "name": "python",
   "nbconvert_exporter": "python",
   "pygments_lexer": "ipython3",
   "version": "3.7.6"
  }
 },
 "nbformat": 4,
 "nbformat_minor": 4
}

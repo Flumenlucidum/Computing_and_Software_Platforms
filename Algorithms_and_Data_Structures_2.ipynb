{
 "cells": [
  {
   "cell_type": "markdown",
   "metadata": {},
   "source": [
    "#### Heap\n",
    "\n",
    "#### Dynamic Programming \n",
    "\n",
    "###### Dijkstra \n",
    "\n",
    "###### Fibonacci and Knapsack problem"
   ]
  },
  {
   "cell_type": "code",
   "execution_count": 14,
   "metadata": {},
   "outputs": [
    {
     "data": {
      "text/plain": [
       "[(4, 2), (6, 1), (6, 2), (10, 3), (9, 1)]"
      ]
     },
     "execution_count": 14,
     "metadata": {},
     "output_type": "execute_result"
    }
   ],
   "source": [
    "#Heap\n",
    "#Priority Queue - when dequeing, not by FIFO, elements are dequed by certain criterion e.g. maximum\n",
    "#Complete binary tree (filled from left)\n",
    "#min heap -> root node is minimum, so access time O(1)\n",
    "#When adding an element O(logN), when pop O(logN)\n",
    "#Index -> 2*index of parent node +1 (left)/+2(right)\n",
    "\n",
    "#1. Adding :add the element at the last node location to fill\n",
    "#and  compare with the parent node, if smaller than parent, swap ....\n",
    "#2. dequeing : Remove the root, fill in the last node to the root\n",
    "#if the root value is bigger than any of the children, swap with the smaller child ...\n",
    "\n",
    "import heapq\n",
    "from collections import deque\n",
    "num=[(10,3),(3,0),(6,2),(9,1),(6,1)]\n",
    "heapq.heapify(num)\n",
    "heapq.heappop(num)\n",
    "heapq.heappush(num,(4,2))\n",
    "num"
   ]
  },
  {
   "cell_type": "code",
   "execution_count": 5,
   "metadata": {},
   "outputs": [],
   "source": [
    "graph = {\n",
    "    'A': {'B': 8, 'C': 1, 'D': 2},\n",
    "    'B': {},\n",
    "    'C': {'B': 5, 'D': 2},\n",
    "    'D': {'E': 3, 'F': 5},\n",
    "    'E': {'F': 1},\n",
    "    'F': {'A': 5}\n",
    "}"
   ]
  },
  {
   "cell_type": "code",
   "execution_count": 8,
   "metadata": {},
   "outputs": [],
   "source": [
    "from collections import deque\n",
    "\n",
    "def dijkstra(graph,start):\n",
    "    #Set the distances of all nodes to inf except the starting node (zero)\n",
    "    distances={node:float('inf') for node in graph}\n",
    "    distances[start]=0\n",
    "    #Make deque and append the starting node\n",
    "    Q=deque()\n",
    "    Q.append([start,distances[start]])\n",
    "    \n",
    "    while len(Q)>0:\n",
    "        current_dest,current_dist=Q.popleft()\n",
    "        #if the distance just poped up is longer than the record,\n",
    "        #it is useless to go further\n",
    "        if current_dist>distances[current_dest]:\n",
    "            continue\n",
    "        #Go over the adjacent nodes\n",
    "        \n",
    "        for new_dest, new_dist in graph[current_dest].items():\n",
    "            #Renew the distance\n",
    "            distance=current_dist+new_dist\n",
    "            \n",
    "            #If the renewed distance is shorter than the record\n",
    "            if distance<distances[new_dest]:\n",
    "                distances[new_dest]=distance\n",
    "                Q.append([new_dest,distance])\n",
    "                \n",
    "    return distances\n",
    "        "
   ]
  },
  {
   "cell_type": "code",
   "execution_count": 6,
   "metadata": {},
   "outputs": [],
   "source": [
    "def dijkstra(graph, start):\n",
    "    \n",
    "    distances={node:float('inf') for node in graph}\n",
    "    distances[start]=0\n",
    "    \n",
    "    Q=deque()\n",
    "    Q.append([start,distances[start]])\n",
    "    \n",
    "    while len(Q)>0:\n",
    "        current_dest,current_dist=Q.popleft()\n",
    "        if current_dist>distances[current_dest]:\n",
    "            continue\n",
    "        \n",
    "        for new_dest,new_dist in graph[current_dest].items():\n",
    "            \n",
    "            distance=current_dist+new_dist\n",
    "            \n",
    "            if distance<distances[new_dest]:\n",
    "                distances[new_dest]=distance\n",
    "                Q.append([new_dest,distance])\n",
    "    return distances\n",
    "        "
   ]
  },
  {
   "cell_type": "code",
   "execution_count": 9,
   "metadata": {},
   "outputs": [
    {
     "data": {
      "text/plain": [
       "{'A': 0, 'B': 6, 'C': 1, 'D': 2, 'E': 5, 'F': 6}"
      ]
     },
     "execution_count": 9,
     "metadata": {},
     "output_type": "execute_result"
    }
   ],
   "source": [
    "dijkstra(graph,'A')"
   ]
  },
  {
   "cell_type": "code",
   "execution_count": 17,
   "metadata": {},
   "outputs": [],
   "source": [
    "def fibonacci(t1,t2,n):\n",
    "    \n",
    "    if n==1:\n",
    "        return t1\n",
    "    elif n==2:\n",
    "        return t2\n",
    "    \n",
    "    else:\n",
    "        \n",
    "        dp=[0]*n\n",
    "        dp[0]=t1\n",
    "        dp[1]=t2\n",
    "        \n",
    "        for i in range(2,n):\n",
    "            dp[i]=dp[i-1]+dp[i-2]\n",
    "        \n",
    "        return dp[n-1]"
   ]
  },
  {
   "cell_type": "code",
   "execution_count": 50,
   "metadata": {},
   "outputs": [],
   "source": [
    "def knapsack(val:list,wt:list,C:int)->int:\n",
    "    #val list of values\n",
    "    #wt list of weights\n",
    "    #C maximum capacity of the knapsack\n",
    "    #return maximum value of the materials that can be carried\n",
    "    \n",
    "    table=[[0]*(C+1)for i in range(len(val)+1)]\n",
    "    \n",
    "    for row in range(1,len(val)+1):\n",
    "        for col in range(1,C+1):\n",
    "            \n",
    "            if wt[row-1]>col: #not possible to add the material\n",
    "                table[row][col]=table[row-1][col]\n",
    "            else: #possible \n",
    "                table[row][col]=max((val[row-1]+table[row-1][col-wt[row-1]]),table[row-1][col])\n",
    "        print(table[row])\n",
    "    return table[row][col]"
   ]
  },
  {
   "cell_type": "code",
   "execution_count": 51,
   "metadata": {},
   "outputs": [
    {
     "name": "stdout",
     "output_type": "stream",
     "text": [
      "[0, 0, 0, 0, 0, 10, 10, 10, 10, 10, 10]\n",
      "[0, 0, 0, 0, 40, 40, 40, 40, 40, 50, 50]\n",
      "[0, 0, 0, 0, 40, 40, 40, 40, 40, 50, 70]\n",
      "[0, 0, 0, 50, 50, 50, 50, 90, 90, 90, 90]\n"
     ]
    },
    {
     "data": {
      "text/plain": [
       "90"
      ]
     },
     "execution_count": 51,
     "metadata": {},
     "output_type": "execute_result"
    }
   ],
   "source": [
    "val=[10,40,30,50]\n",
    "wt=[5,4,6,3]\n",
    "C=10\n",
    "knapsack(val,wt,C)"
   ]
  },
  {
   "cell_type": "code",
   "execution_count": 24,
   "metadata": {},
   "outputs": [],
   "source": [
    "def knapsack(val,wt,C):\n",
    "    table=[[0]*(C+1) for i in range(len(val)+1)]\n",
    "    for row in range(1,len(val)+1):\n",
    "        for col in range(1,C+1):\n",
    "            \n",
    "            if wt[row-1]>col:\n",
    "                table[row][col]=table[row-1][col]\n",
    "            else:\n",
    "                table[row][col]=max(val[row-1]+table[row-1][col-wt[row-1]],table[row-1][col])\n",
    "    print() "
   ]
  },
  {
   "cell_type": "code",
   "execution_count": 25,
   "metadata": {},
   "outputs": [
    {
     "name": "stdout",
     "output_type": "stream",
     "text": [
      "[[0, 0, 0, 0, 0, 0, 0, 0, 0, 0, 0], [0, 0, 0, 0, 0, 0, 0, 0, 0, 0, 0], [0, 0, 0, 0, 0, 0, 0, 0, 0, 0, 0], [0, 0, 0, 0, 0, 0, 0, 0, 0, 0, 0], [0, 0, 0, 0, 0, 0, 0, 0, 0, 0, 0]]\n",
      "[0, 0, 0, 0, 0, 10, 10, 10, 10, 10, 10]\n",
      "[0, 0, 0, 0, 40, 40, 40, 40, 40, 50, 50]\n",
      "[0, 0, 0, 0, 40, 40, 40, 40, 40, 50, 70]\n",
      "[0, 0, 0, 50, 50, 50, 50, 90, 90, 90, 90]\n"
     ]
    },
    {
     "data": {
      "text/plain": [
       "90"
      ]
     },
     "execution_count": 25,
     "metadata": {},
     "output_type": "execute_result"
    }
   ],
   "source": [
    "val=[10,40,30,50]\n",
    "wt=[5,4,6,3]\n",
    "C=10\n",
    "knapsack(val,wt,C)"
   ]
  },
  {
   "cell_type": "code",
   "execution_count": null,
   "metadata": {},
   "outputs": [],
   "source": []
  }
 ],
 "metadata": {
  "kernelspec": {
   "display_name": "Python 3",
   "language": "python",
   "name": "python3"
  },
  "language_info": {
   "codemirror_mode": {
    "name": "ipython",
    "version": 3
   },
   "file_extension": ".py",
   "mimetype": "text/x-python",
   "name": "python",
   "nbconvert_exporter": "python",
   "pygments_lexer": "ipython3",
   "version": "3.7.6"
  }
 },
 "nbformat": 4,
 "nbformat_minor": 4
}
